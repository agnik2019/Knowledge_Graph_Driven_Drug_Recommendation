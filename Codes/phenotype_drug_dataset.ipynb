{
 "cells": [
  {
   "cell_type": "code",
   "execution_count": 1,
   "metadata": {},
   "outputs": [],
   "source": [
    "import pandas as pd\n",
    "\n",
    "# Load PrimeKG data with a specified data type to handle mixed types\n",
    "file_path = \"/Users/akadirerol/Downloads/kg.csv\"\n",
    "dtype_spec = {'x_id': str, 'y_id': str, 'x_name': str, 'y_name': str}\n",
    "chunk_size = 100000"
   ]
  },
  {
   "cell_type": "code",
   "execution_count": 2,
   "metadata": {},
   "outputs": [],
   "source": [
    "# Function to load data in chunks and normalize text\n",
    "def load_data_in_chunks(file_path, chunk_size, dtype_spec):\n",
    "    chunk_iterator = pd.read_csv(file_path, chunksize=chunk_size, dtype=dtype_spec, low_memory=False)\n",
    "    for chunk in chunk_iterator:\n",
    "        chunk['x_name'] = chunk['x_name'].str.lower().str.strip()\n",
    "        chunk['y_name'] = chunk['y_name'].str.lower().str.strip()\n",
    "        yield chunk"
   ]
  },
  {
   "cell_type": "code",
   "execution_count": 3,
   "metadata": {},
   "outputs": [],
   "source": [
    "# Function to find broader matches based on patterns\n",
    "def find_broader_matches(patterns, all_names):\n",
    "    return {name for name in all_names if any(pattern in name for pattern in patterns)}\n"
   ]
  },
  {
   "cell_type": "code",
   "execution_count": 4,
   "metadata": {},
   "outputs": [],
   "source": [
    "# Load unique names\n",
    "def get_unique_names(file_path, chunk_size, dtype_spec):\n",
    "    unique_x_names, unique_y_names = set(), set()\n",
    "    for chunk in load_data_in_chunks(file_path, chunk_size, dtype_spec):\n",
    "        unique_x_names.update(chunk['x_name'].unique())\n",
    "        unique_y_names.update(chunk['y_name'].unique())\n",
    "    return sorted(unique_x_names.union(unique_y_names))"
   ]
  },
  {
   "cell_type": "markdown",
   "metadata": {},
   "source": [
    "\n",
    "Generates pairs based on specified x_type and y_type (e.g., disease, drug, phenotype) and target names.\n",
    "   \n",
    "Parameters:\n",
    "\n",
    "file_path (str): Path to the data file.\n",
    "\n",
    "chunk_size (int): Number of rows per chunk to load.\n",
    "\n",
    "dtype_spec (dict): Data type specifications for loading the file.\n",
    "\n",
    "target_names (set): A set of names to search for in the x_name or y_name columns.\n",
    "\n",
    "x_type (str): The type to match for x_name (e.g., \"disease\", \"drug\", \"phenotype\").\n",
    "\n",
    "y_type (str): The type to match for y_name (e.g., \"disease\", \"drug\", \"phenotype\").\n",
    "\n",
    "relationship_column (str, optional): Name of the column containing the relationship type information. If None, it will not be included.\n",
    "\n",
    "   \n",
    "Returns:\n",
    "\n",
    "list of tuples: Pairs where either x_name or y_name matches the target names and the corresponding types match x_type and y_type."
   ]
  },
  {
   "cell_type": "code",
   "execution_count": 59,
   "metadata": {},
   "outputs": [],
   "source": [
    "def generate_pairs(file_path, chunk_size, dtype_spec, target_names, x_type, y_type, relationship_columns=None):\n",
    "    pairs = []\n",
    "    for chunk in load_data_in_chunks(file_path, chunk_size, dtype_spec):\n",
    "        for _, row in chunk.iterrows():\n",
    "            # Only check for pairs where x_name has x_type and y_name has y_type\n",
    "            if row['x_name'] in target_names and y_type in row.get('y_type', '').lower():\n",
    "                # Create dictionary with x_name and y_name\n",
    "                pair = {'x_name': row['x_name'], 'y_name': row['y_name']}\n",
    "                \n",
    "                # Add relationship columns if specified\n",
    "                if relationship_columns:\n",
    "                    for col in relationship_columns:\n",
    "                        pair[col] = row.get(col, '')\n",
    "                \n",
    "                pairs.append(pair)\n",
    "    return pairs"
   ]
  },
  {
   "cell_type": "code",
   "execution_count": 16,
   "metadata": {},
   "outputs": [
    {
     "name": "stdout",
     "output_type": "stream",
     "text": [
      "Total number of unique names: 128549\n",
      "'de novo' actin filament nucleation\n",
      "'de novo' amp biosynthetic process\n",
      "'de novo' cotranslational protein folding\n",
      "'de novo' ctp biosynthetic process\n",
      "'de novo' gdp-l-fucose biosynthetic process\n",
      "'de novo' imp biosynthetic process\n",
      "'de novo' l-methionine biosynthetic process\n",
      "'de novo' nad biosynthetic process\n",
      "'de novo' nad biosynthetic process from aspartate\n",
      "'de novo' nad biosynthetic process from tryptophan\n",
      "'de novo' posttranslational protein folding\n",
      "'de novo' protein folding\n",
      "'de novo' pyridoxal 5'-phosphate biosynthetic process\n",
      "'de novo' pyrimidine nucleobase biosynthetic process\n",
      "'de novo' ump biosynthetic process\n",
      "'de novo' xmp biosynthetic process\n",
      "'psoriatic arthritis, susceptibility to\n",
      "(+)-2-(4-biphenyl)propionic acid\n",
      "(+)-2-epi-prezizaene synthase activity\n",
      "(+)-3'-hydroxylarreatricin biosynthetic process\n",
      "(+)-abscisic acid 8'-hydroxylase activity\n",
      "(+)-abscisic acid d-glucopyranosyl ester transmembrane transport\n",
      "(+)-abscisic acid d-glucopyranosyl ester transmembrane transporter activity\n",
      "(+)-alpha-barbatene synthase activity\n",
      "(+)-beta-barbatene synthase activity\n",
      "(+)-beta-chamigrene synthase activity\n",
      "(+)-borneol dehydrogenase activity\n",
      "(+)-camphor biosynthetic process\n",
      "(+)-camphor catabolic process\n",
      "(+)-camphor metabolic process\n",
      "(+)-delta-cadinene synthase activity\n",
      "(+)-delta-cadinene-8-hydroxylase activity\n",
      "(+)-epi-alpha-bisabolol biosynthetic process\n",
      "(+)-epi-alpha-bisabolol catabolic process\n",
      "(+)-epi-alpha-bisabolol metabolic process\n",
      "(+)-kotanin biosynthetic process\n",
      "(+)-kotanin catabolic process\n",
      "(+)-kotanin metabolic process\n",
      "(+)-lariciresinol biosynthetic process\n",
      "(+)-lariciresinol catabolic process\n",
      "(+)-lariciresinol metabolic process\n",
      "(+)-larreatricin metabolic process\n",
      "(+)-menthofuran synthase activity\n",
      "(+)-neomenthol dehydrogenase activity\n",
      "(+)-pinoresinol biosynthetic process\n",
      "(+)-pinoresinol catabolic process\n",
      "(+)-pinoresinol metabolic process\n",
      "(+)-pulegone reductase, (+)-isomenthone as substrate, activity\n",
      "(+)-pulegone reductase, (-)-menthone as substrate, activity\n",
      "(+)-rutamarin alcohol\n"
     ]
    }
   ],
   "source": [
    "# Get all unique names from the dataset\n",
    "all_unique_names = get_unique_names(file_path, chunk_size, dtype_spec)\n",
    "\n",
    "print(f\"Total number of unique names: {len(all_unique_names)}\")\n",
    "for name in all_unique_names[:50]:  # Print the first 50 for a quick check\n",
    "    print(name)"
   ]
  },
  {
   "cell_type": "code",
   "execution_count": 23,
   "metadata": {},
   "outputs": [],
   "source": [
    "breast_and_cervical_cancer = [\n",
    "    \"breast cancer\", \"ductal carcinoma\", \"invasive ductal carcinoma\", \"invasive lobular carcinoma\",\n",
    "    \"triple-negative\", \"her2-positive\", \"metastatic breast\", \"dcis\",\n",
    "    \"hormone receptor-positive\", \"cervical cancer\", \"cervical squamous cell carcinoma\", \"cervical adenocarcinoma\",\n",
    "    \"stage i cervical\", \"stage ii cervical\", \"stage iii cervical\", \"stage iv cervical\",\n",
    "    \"hpv\"\n",
    "]"
   ]
  },
  {
   "cell_type": "code",
   "execution_count": 19,
   "metadata": {},
   "outputs": [
    {
     "name": "stdout",
     "output_type": "stream",
     "text": [
      "Number of broader Breast and Cervical Cancer-related names: 15\n",
      "\n",
      "Sample of Breast and Cervical Cancer-related names:\n",
      "['cervical cancer', 'estrogen-receptor negative breast cancer', 'endocervical adenocarcinoma', 'progesterone-receptor positive breast cancer', 'triple-negative breast carcinoma', 'her2-receptor negative breast cancer', 'microinvasive cervical squamous cell carcinoma', 'estrogen-receptor positive breast cancer', 'progesterone-receptor negative breast cancer', 'sporadic breast cancer']\n"
     ]
    }
   ],
   "source": [
    "# Find names related to breast and cervical cancer using broader patterns\n",
    "breast_and_cervical_cancer_dataset = find_broader_matches(breast_and_cervical_cancer, all_unique_names)\n",
    "\n",
    "# Display the number of broader matches found\n",
    "print(f\"Number of broader Breast and Cervical Cancer-related names: {len(breast_and_cervical_cancer_dataset)}\")\n",
    "\n",
    "# Display some of the related names for verification\n",
    "print(\"\\nSample of Breast and Cervical Cancer-related names:\")\n",
    "print(list(breast_and_cervical_cancer_dataset)[:10])  # Display the first 10 as a sample"
   ]
  },
  {
   "cell_type": "code",
   "execution_count": null,
   "metadata": {},
   "outputs": [
    {
     "name": "stdout",
     "output_type": "stream",
     "text": [
      "Total disease-disease pairs found: 104\n",
      "Sample of disease-disease pairs: [('ductal carcinoma in situ', 'cowden disease'), ('endocervical adenocarcinoma', 'endocervical carcinoma'), ('cervical adenocarcinoma', 'endocervical adenocarcinoma'), ('progesterone-receptor positive breast cancer', 'breast carcinoma by gene expression profile'), ('progesterone-receptor negative breast cancer', 'breast carcinoma by gene expression profile'), ('her2-receptor negative breast cancer', 'breast carcinoma by gene expression profile'), ('breast cancer', 'malignant breast phyllodes tumor'), ('breast cancer', 'breast sarcoma'), ('cervical adenocarcinoma', 'cervical mucinous adenocarcinoma'), ('cervical squamous cell carcinoma', 'cervical verrucous carcinoma')]\n"
     ]
    }
   ],
   "source": [
    "# Generate disease pairs using broader cancer matches\n",
    "disease_disease_pairs_first = generate_pairs(file_path, chunk_size, dtype_spec, breast_and_cervical_cancer_dataset, 'disease', 'disease')\n",
    "\n",
    "print(f\"Total disease-disease pairs found: {len(disease_disease_pairs_first)}\")\n",
    "print(\"Sample of disease-disease pairs:\", disease_disease_pairs_first[:10])"
   ]
  },
  {
   "cell_type": "code",
   "execution_count": 21,
   "metadata": {},
   "outputs": [
    {
     "name": "stdout",
     "output_type": "stream",
     "text": [
      "Number of unique entries in the second of pairs: 48\n",
      "Second of pairs list:\n",
      "['adenocarcinoma of cervix uteri', 'adenoid basal carcinoma of the cervix uteri', 'basal-like breast carcinoma', 'breast carcinoma', 'breast carcinoma by gene expression profile', 'breast lymphoma', 'breast neoplasm', 'breast sarcoma', 'cervical adenocarcinoma', 'cervical adenosquamous carcinoma', 'cervical basaloid carcinoma', 'cervical carcinoma', 'cervical clear cell adenocarcinoma', 'cervical endometrioid adenocarcinoma', 'cervical intraepithelial neoplasia grade 2/3', 'cervical keratinizing squamous cell carcinoma', 'cervical lymphoepithelioma-like carcinoma', 'cervical metaplasia', 'cervical mucinous adenocarcinoma', 'cervical non-keratinizing squamous cell carcinoma', 'cervical serous adenocarcinoma', 'cervical squamous cell carcinoma', 'cervical verrucous carcinoma', 'cervical wilms tumor', 'cervix melanoma', 'cowden disease', 'early invasive cervical adenocarcinoma', 'endocervical adenocarcinoma', 'endocervical carcinoma', 'estrogen-receptor negative breast cancer', 'her2-receptor negative breast cancer', 'high-grade neuroendocrine carcinoma of the cervix uteri', 'malignant breast melanoma', 'malignant breast phyllodes tumor', 'malignant germ cell tumor of cervix uteri', 'malignant mixed epithelial and mesenchymal tumor of cervix uteri', 'malignant neoplasm of endocervix', 'microinvasive cervical squamous cell carcinoma', 'progesterone-receptor negative breast cancer', 'salivary gland type cancer of the breast', 'sarcoma of cervix uteri', 'squamous cell carcinoma', 'thoracic cancer', 'triple-negative breast carcinoma', 'uterine cancer', 'uterine cervix neoplasm', 'uterine ligament cancer', 'wolffian duct adenocarcinoma']\n"
     ]
    }
   ],
   "source": [
    "def find_unique_second_elements(pairs):\n",
    "    second_of_pairs = [pair[1] for pair in pairs]\n",
    "    return sorted(set(second_of_pairs))\n",
    "\n",
    "second_of_pairs_first = find_unique_second_elements(disease_disease_pairs_first)\n",
    "\n",
    "# Display the result\n",
    "print(f\"Number of unique entries in the second of pairs: {len(second_of_pairs_first)}\")\n",
    "print(\"Second of pairs list:\")\n",
    "print(second_of_pairs_first)\n"
   ]
  },
  {
   "cell_type": "code",
   "execution_count": null,
   "metadata": {},
   "outputs": [
    {
     "name": "stdout",
     "output_type": "stream",
     "text": [
      "Total disease-disease pairs found: 642\n",
      "Sample of disease-disease pairs: [('squamous cell carcinoma', 'junctional epidermolysis bullosa'), ('squamous cell carcinoma', 'late-onset junctional epidermolysis bullosa'), ('squamous cell carcinoma', 'recessive dystrophic epidermolysis bullosa'), ('squamous cell carcinoma', 'dystrophic epidermolysis bullosa'), ('squamous cell carcinoma', 'transient bullous dermolysis of the newborn'), ('breast carcinoma', 'cowden disease'), ('squamous cell carcinoma', 'schc6pf-schulz-passarge syndrome'), ('squamous cell carcinoma', 'xeroderma pigmentosum'), ('breast carcinoma', 'breast-ovarian cancer, familial, susceptibility to'), ('breast carcinoma', 'familial cutaneous telangiectasia and oropharyngeal predisposition cancer syndrome')]\n"
     ]
    }
   ],
   "source": [
    "# Generate disease pairs using second pairs of cancer matches\n",
    "disease_disease_pairs_second = generate_pairs(file_path, chunk_size, dtype_spec, second_of_pairs_first, 'disease', 'disease')\n",
    "\n",
    "print(f\"Total disease-disease pairs found: {len(disease_disease_pairs_second)}\")\n",
    "print(\"Sample of disease-disease pairs:\", disease_disease_pairs_second[:10])"
   ]
  },
  {
   "cell_type": "code",
   "execution_count": 25,
   "metadata": {},
   "outputs": [],
   "source": [
    "breast_and_cervical_cancer_from_web = [disease.lower().strip() for disease in [\n",
    "    \"Ovarian Cancer\",\n",
    "    \"Endometrial (Uterine) Cancer\",\n",
    "    \"Vulvar Cancer\",\n",
    "    \"Vaginal Cancer\",\n",
    "    \"Fallopian Tube Cancer\",\n",
    "    \"Lobular Carcinoma In Situ (LCIS)\",\n",
    "    \"Ductal Carcinoma In Situ (DCIS)\",\n",
    "    \"Triple-Negative Breast Cancer\",\n",
    "    \"Inflammatory Breast Cancer\",\n",
    "    \"Peritoneal Cancer\"\n",
    "]]"
   ]
  },
  {
   "cell_type": "code",
   "execution_count": 26,
   "metadata": {},
   "outputs": [
    {
     "name": "stdout",
     "output_type": "stream",
     "text": [
      "Number of broader Breast and Cervical Cancer-related names web: 10\n",
      "\n",
      "Sample of Breast and Cervical Cancer-related names web:\n",
      "['ovarian cancer', 'vaginal cancer', 'fallopian tube cancer', 'familial ovarian cancer', 'ovarian cancer, susceptibility to, 1', 'hereditary breast ovarian cancer syndrome', 'retroperitoneal cancer', 'hereditary site-specific ovarian cancer syndrome', 'breast-ovarian cancer, familial, susceptibility to', 'mucinous ovarian cancer']\n"
     ]
    }
   ],
   "source": [
    "# Find names related to breast and cervical cancer using broader patterns\n",
    "breast_and_cervical_cancer_dataset_from_web = find_broader_matches(breast_and_cervical_cancer_from_web, all_unique_names)\n",
    "\n",
    "# Display the number of broader matches found\n",
    "print(f\"Number of broader Breast and Cervical Cancer-related names web: {len(breast_and_cervical_cancer_dataset_from_web)}\")\n",
    "\n",
    "# Display some of the related names for verification\n",
    "print(\"\\nSample of Breast and Cervical Cancer-related names web:\")\n",
    "print(list(breast_and_cervical_cancer_dataset_from_web)[:10])  # Display the first 10 as a sample"
   ]
  },
  {
   "cell_type": "code",
   "execution_count": null,
   "metadata": {},
   "outputs": [
    {
     "name": "stdout",
     "output_type": "stream",
     "text": [
      "Total disease-disease pairs found: 96\n",
      "Sample of disease-disease pairs: [('vaginal cancer', 'female reproductive organ cancer'), ('vaginal cancer', 'vaginal neoplasm'), ('retroperitoneal cancer', 'retroperitoneal lymphoma'), ('retroperitoneal cancer', 'retroperitoneal sarcoma'), ('retroperitoneal cancer', 'retroperitoneum carcinoma'), ('vaginal cancer', 'vagina sarcoma'), ('fallopian tube cancer', 'fallopian tube neoplasm'), ('fallopian tube cancer', 'female reproductive organ cancer'), ('fallopian tube cancer', 'fallopian tube leiomyosarcoma'), ('fallopian tube cancer', 'fallopian tube adenosarcoma')]\n"
     ]
    }
   ],
   "source": [
    "# Generate disease pairs using online cancer matches\n",
    "disease_disease_pairs_online = generate_pairs(file_path, chunk_size, dtype_spec, breast_and_cervical_cancer_dataset_from_web, 'disease', 'disease')\n",
    "\n",
    "print(f\"Total disease-disease pairs found: {len(disease_disease_pairs_online)}\")\n",
    "print(\"Sample of disease-disease pairs:\", disease_disease_pairs_online[:10])"
   ]
  },
  {
   "cell_type": "markdown",
   "metadata": {},
   "source": [
    "#### 1. disease_disease_pairs_first (from the related breast and cervical cancer)\n",
    "#### 2. disease_disease_pairs_second (from the second pair of disease_disease_pairs_first)\n",
    "#### 3. disease_disease_pairs_online (from the related breast and cervical cancer searched from web)"
   ]
  },
  {
   "cell_type": "code",
   "execution_count": 28,
   "metadata": {},
   "outputs": [
    {
     "name": "stdout",
     "output_type": "stream",
     "text": [
      "Table saved as /Users/akadirerol/Desktop/disease_disease_pairs.csv\n"
     ]
    }
   ],
   "source": [
    "# Concatenate the three lists into one combined list\n",
    "all_disease_disease_pairs = disease_disease_pairs_first + disease_disease_pairs_second + disease_disease_pairs_online\n",
    "\n",
    "# Convert the combined list of tuples into a DataFrame\n",
    "df_disease_pairs = pd.DataFrame(all_disease_disease_pairs, columns=['Disease_1', 'Disease_2'])\n",
    "\n",
    "# Save the DataFrame to a CSV file locally\n",
    "output_file_path = \"/Users/akadirerol/Desktop/disease_disease_pairs.csv\"\n",
    "df_disease_pairs.to_csv(output_file_path, index=False)\n",
    "\n",
    "print(f\"Table saved as {output_file_path}\")"
   ]
  },
  {
   "cell_type": "code",
   "execution_count": 29,
   "metadata": {},
   "outputs": [
    {
     "name": "stdout",
     "output_type": "stream",
     "text": [
      "Number of unique diseases: 338\n",
      "Sample of unique diseases:\n",
      "['pleural cancer', 'lip and oral cavity squamous cell carcinoma', 'uterine cancer', 'breast cancer', 'fallopian tube carcinoma', 'uterine cervix neoplasm', 'cervical intraepithelial neoplasia', 'endometrial cancer', 'breast-ovarian cancer, familial, susceptibility to', 'high-grade neuroendocrine carcinoma of the cervix uteri']\n"
     ]
    }
   ],
   "source": [
    "# Find all unique values from both the first and second elements of the pairs in all_disease_disease_pairs\n",
    "unique_diseases = set([pair[0] for pair in all_disease_disease_pairs]).union(\n",
    "    set([pair[1] for pair in all_disease_disease_pairs])\n",
    ")\n",
    "\n",
    "# Display the number of unique diseases found\n",
    "print(f\"Number of unique diseases: {len(unique_diseases)}\")\n",
    "\n",
    "# Display a sample of the unique diseases\n",
    "print(\"Sample of unique diseases:\")\n",
    "print(list(unique_diseases)[:10])  # Display the first 10 as a sample\n"
   ]
  },
  {
   "cell_type": "markdown",
   "metadata": {},
   "source": [
    "### Disease - Drug"
   ]
  },
  {
   "cell_type": "code",
   "execution_count": 60,
   "metadata": {},
   "outputs": [
    {
     "name": "stdout",
     "output_type": "stream",
     "text": [
      "Total disease-drug pairs found: 808\n",
      "Sample of disease-drug pairs: [{'x_name': 'epidermodysplasia verruciformis', 'y_name': 'imiquimod', 'relation': 'indication', 'display_relation': 'indication'}, {'x_name': 'epidermodysplasia verruciformis', 'y_name': 'pimecrolimus', 'relation': 'contraindication', 'display_relation': 'contraindication'}, {'x_name': 'lymphoma', 'y_name': 'vinblastine', 'relation': 'indication', 'display_relation': 'indication'}, {'x_name': 'lymphoma', 'y_name': 'methylprednisolone', 'relation': 'indication', 'display_relation': 'indication'}, {'x_name': 'lymphoma', 'y_name': 'uracil mustard', 'relation': 'indication', 'display_relation': 'indication'}, {'x_name': 'lymphoma', 'y_name': 'methotrexate', 'relation': 'indication', 'display_relation': 'indication'}, {'x_name': 'lymphoma', 'y_name': 'vincristine', 'relation': 'indication', 'display_relation': 'indication'}, {'x_name': 'lymphoma', 'y_name': 'prednisone', 'relation': 'indication', 'display_relation': 'indication'}, {'x_name': 'lymphoma', 'y_name': 'thiotepa', 'relation': 'indication', 'display_relation': 'indication'}, {'x_name': 'lymphoma', 'y_name': 'mechlorethamine', 'relation': 'indication', 'display_relation': 'indication'}]\n"
     ]
    }
   ],
   "source": [
    "# Generate disease-drug pair using combined diseases\n",
    "disease_drug_pairs = generate_pairs(file_path, chunk_size, dtype_spec, unique_diseases, 'disease', 'drug', relationship_columns=[\"relation\", \"display_relation\"])\n",
    "\n",
    "print(f\"Total disease-drug pairs found: {len(disease_drug_pairs)}\")\n",
    "print(\"Sample of disease-drug pairs:\", disease_drug_pairs[:10])"
   ]
  },
  {
   "cell_type": "code",
   "execution_count": 61,
   "metadata": {},
   "outputs": [
    {
     "name": "stdout",
     "output_type": "stream",
     "text": [
      "Disease-drug pairs saved as /Users/akadirerol/Desktop/disease_drug_pairs.csv\n"
     ]
    }
   ],
   "source": [
    "# Convert the disease-drug pairs into a DataFrame\n",
    "df_disease_drug = pd.DataFrame(disease_drug_pairs)\n",
    "\n",
    "# Rename columns for clarity if desired\n",
    "df_disease_drug.rename(columns={'x_name': 'Disease', 'y_name': 'Drug', 'relation': 'Relation', 'display_relation': 'Display Relation'}, inplace=True)\n",
    "\n",
    "# Save DataFrame as a CSV file\n",
    "df_disease_drug.to_csv(\"/Users/akadirerol/Desktop/disease_drug_pairs.csv\", index=False)\n",
    "print(\"Disease-drug pairs saved as /Users/akadirerol/Desktop/disease_drug_pairs.csv\")"
   ]
  },
  {
   "cell_type": "markdown",
   "metadata": {},
   "source": [
    "### Disease - Phenotype"
   ]
  },
  {
   "cell_type": "code",
   "execution_count": 62,
   "metadata": {},
   "outputs": [
    {
     "name": "stdout",
     "output_type": "stream",
     "text": [
      "Total disease-phenotype pairs found: 2309\n",
      "Sample of disease-phenotype pairs: [{'x_name': 'breast carcinoma', 'y_name': 'multifocal breast carcinoma', 'relation': 'phenotype_phenotype', 'display_relation': 'parent-child'}, {'x_name': 'squamous cell carcinoma', 'y_name': 'squamous cell carcinoma of the skin', 'relation': 'phenotype_phenotype', 'display_relation': 'parent-child'}, {'x_name': 'ovarian neoplasm', 'y_name': 'ovarian papillary adenocarcinoma', 'relation': 'phenotype_phenotype', 'display_relation': 'parent-child'}, {'x_name': 'sarcoma', 'y_name': 'renal sarcoma', 'relation': 'phenotype_phenotype', 'display_relation': 'parent-child'}, {'x_name': 'soft tissue sarcoma', 'y_name': 'fibroma', 'relation': 'phenotype_phenotype', 'display_relation': 'parent-child'}, {'x_name': 'lymphoma', 'y_name': 'pulmonary lymphoma', 'relation': 'phenotype_phenotype', 'display_relation': 'parent-child'}, {'x_name': 'squamous cell carcinoma', 'y_name': 'oropharyngeal squamous cell carcinoma', 'relation': 'phenotype_phenotype', 'display_relation': 'parent-child'}, {'x_name': 'lymphoma', 'y_name': 'hodgkin lymphoma', 'relation': 'phenotype_phenotype', 'display_relation': 'parent-child'}, {'x_name': 'ovarian neoplasm', 'y_name': 'ovarian teratoma', 'relation': 'phenotype_phenotype', 'display_relation': 'parent-child'}, {'x_name': 'sarcoma', 'y_name': 'ewing sarcoma', 'relation': 'phenotype_phenotype', 'display_relation': 'parent-child'}]\n"
     ]
    }
   ],
   "source": [
    "# Generate disease-drug pair using combined diseases\n",
    "disease_phenotype_pairs = generate_pairs(file_path, chunk_size, dtype_spec, unique_diseases, 'disease', 'phenotype', relationship_columns=[\"relation\", \"display_relation\"])\n",
    "\n",
    "print(f\"Total disease-phenotype pairs found: {len(disease_phenotype_pairs)}\")\n",
    "print(\"Sample of disease-phenotype pairs:\", disease_phenotype_pairs[:10])"
   ]
  },
  {
   "cell_type": "code",
   "execution_count": 63,
   "metadata": {},
   "outputs": [
    {
     "name": "stdout",
     "output_type": "stream",
     "text": [
      "Disease-phenotype pairs saved as /Users/akadirerol/Desktop/disease_phenotype_pairs.csv\n"
     ]
    }
   ],
   "source": [
    "# Convert the disease-drug pairs into a DataFrame\n",
    "df_disease_phenotype = pd.DataFrame(disease_phenotype_pairs)\n",
    "\n",
    "# Rename columns for clarity if desired\n",
    "df_disease_phenotype.rename(columns={'x_name': 'Disease', 'y_name': 'Phenotype', 'relation': 'Relation', 'display_relation': 'Display Relation'}, inplace=True)\n",
    "\n",
    "# Save DataFrame as a CSV file\n",
    "df_disease_phenotype.to_csv(\"/Users/akadirerol/Desktop/disease_phenotype_pairs.csv\", index=False)\n",
    "print(\"Disease-phenotype pairs saved as /Users/akadirerol/Desktop/disease_phenotype_pairs.csv\")"
   ]
  },
  {
   "cell_type": "markdown",
   "metadata": {},
   "source": [
    "### Phenotype - Drug"
   ]
  },
  {
   "cell_type": "code",
   "execution_count": 66,
   "metadata": {},
   "outputs": [
    {
     "name": "stdout",
     "output_type": "stream",
     "text": [
      "Drug-Phenotype relationships through shared diseases:\n",
      "        Drug                              Phenotype  \\\n",
      "0  imiquimod  abnormality of metabolism/homeostasis   \n",
      "1  imiquimod        autosomal recessive inheritance   \n",
      "2  imiquimod                               verrucae   \n",
      "3  imiquimod             hypopigmented skin patches   \n",
      "4  imiquimod              recurrent skin infections   \n",
      "\n",
      "                           Disease drug_relation drug_display_relation  \\\n",
      "0  epidermodysplasia verruciformis    indication            indication   \n",
      "1  epidermodysplasia verruciformis    indication            indication   \n",
      "2  epidermodysplasia verruciformis    indication            indication   \n",
      "3  epidermodysplasia verruciformis    indication            indication   \n",
      "4  epidermodysplasia verruciformis    indication            indication   \n",
      "\n",
      "           phenotype_relation phenotype_display_relation  \n",
      "0  disease_phenotype_positive          phenotype present  \n",
      "1  disease_phenotype_positive          phenotype present  \n",
      "2  disease_phenotype_positive          phenotype present  \n",
      "3  disease_phenotype_positive          phenotype present  \n",
      "4  disease_phenotype_positive          phenotype present  \n"
     ]
    }
   ],
   "source": [
    "import pandas as pd\n",
    "\n",
    "# Convert lists to DataFrames\n",
    "df_disease_drug = pd.DataFrame(disease_drug_pairs)\n",
    "df_disease_phenotype = pd.DataFrame(disease_phenotype_pairs)\n",
    "\n",
    "# Rename columns to clearly identify entities and differentiate relations\n",
    "df_disease_drug.rename(columns={\n",
    "    'x_name': 'Disease', \n",
    "    'y_name': 'Drug', \n",
    "    'relation': 'drug_relation', \n",
    "    'display_relation': 'drug_display_relation'\n",
    "}, inplace=True)\n",
    "\n",
    "df_disease_phenotype.rename(columns={\n",
    "    'x_name': 'Disease', \n",
    "    'y_name': 'Phenotype', \n",
    "    'relation': 'phenotype_relation', \n",
    "    'display_relation': 'phenotype_display_relation'\n",
    "}, inplace=True)\n",
    "\n",
    "# Merge on the 'Disease' column to find drug-phenotype pairs through shared diseases\n",
    "drug_phenotype_df = pd.merge(\n",
    "    df_disease_drug[['Disease', 'Drug', 'drug_relation', 'drug_display_relation']],\n",
    "    df_disease_phenotype[['Disease', 'Phenotype', 'phenotype_relation', 'phenotype_display_relation']],\n",
    "    on='Disease'\n",
    ")\n",
    "\n",
    "# Keep Disease in the final result to show the shared connection\n",
    "drug_phenotype_relationships = drug_phenotype_df[\n",
    "    ['Drug', 'Phenotype', 'Disease', 'drug_relation', 'drug_display_relation', 'phenotype_relation', 'phenotype_display_relation']\n",
    "]\n",
    "\n",
    "# Display the result\n",
    "print(\"Drug-Phenotype relationships through shared diseases:\")\n",
    "print(drug_phenotype_relationships.head())\n"
   ]
  },
  {
   "cell_type": "code",
   "execution_count": 67,
   "metadata": {},
   "outputs": [
    {
     "name": "stdout",
     "output_type": "stream",
     "text": [
      "Drug-Phenotype relationships saved as /Users/akadirerol/Desktop/drug_phenotype_relationships.csv\n"
     ]
    }
   ],
   "source": [
    "# Save the DataFrame to a new CSV file\n",
    "drug_phenotype_relationships.to_csv(\"/Users/akadirerol/Desktop/drug_phenotype_relationships.csv\", index=False)\n",
    "print(\"Drug-Phenotype relationships saved as /Users/akadirerol/Desktop/drug_phenotype_relationships.csv\")\n"
   ]
  }
 ],
 "metadata": {
  "kernelspec": {
   "display_name": "Python 3",
   "language": "python",
   "name": "python3"
  },
  "language_info": {
   "codemirror_mode": {
    "name": "ipython",
    "version": 3
   },
   "file_extension": ".py",
   "mimetype": "text/x-python",
   "name": "python",
   "nbconvert_exporter": "python",
   "pygments_lexer": "ipython3",
   "version": "3.11.5"
  }
 },
 "nbformat": 4,
 "nbformat_minor": 2
}
